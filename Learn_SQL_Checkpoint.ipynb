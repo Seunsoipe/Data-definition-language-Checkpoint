{
  "nbformat": 4,
  "nbformat_minor": 0,
  "metadata": {
    "colab": {
      "provenance": [],
      "authorship_tag": "ABX9TyPTKJ/CiuYXhGlR2883GfML",
      "include_colab_link": true
    },
    "kernelspec": {
      "name": "python3",
      "display_name": "Python 3"
    },
    "language_info": {
      "name": "python"
    }
  },
  "cells": [
    {
      "cell_type": "markdown",
      "metadata": {
        "id": "view-in-github",
        "colab_type": "text"
      },
      "source": [
        "<a href=\"https://colab.research.google.com/github/Seunsoipe/Data-definition-language-Checkpoint/blob/main/Learn_SQL_Checkpoint.ipynb\" target=\"_parent\"><img src=\"https://colab.research.google.com/assets/colab-badge.svg\" alt=\"Open In Colab\"/></a>"
      ]
    },
    {
      "cell_type": "markdown",
      "source": [
        "Objective\n",
        "Consider the following entity/ relationship diagram: https://i.imgur.com/Jbjp9Ur.png\n",
        "\n",
        "Convert the entity relationship diagram into relational model.\n",
        "1. Give the list the producers.\n",
        "\n",
        "2. Give the list of producers sorted by name.\n",
        "\n",
        "3. Give the list the producers of Sousse.\n",
        "\n",
        "4. Calculate the total quantity of wine produced having the number 12.\n",
        "\n",
        "5. Calculate the quantity of wine produced by category.\n",
        "\n",
        "6. Which producers in the Sousse region have harvested at least one wine in quantities greater than 300 liters? We want the names and first names of the producers, sorted in alphabetical order.\n",
        "\n",
        "7. List the wine numbers that have a degree greater than 12 and that have been produced by producer number 24.\n",
        "\n",
        "Instructions Write SQL queries to retrieve data from these tables using DQL language ###\n",
        "\n",
        "Solutions\n",
        "\n",
        "1. Wine(Numw, Category, Year, Degree, Quantity) Producers(Nump, Fname, Lname, Region)\n",
        "\n",
        "2. select * from producers\n",
        "\n",
        "3. select * from producers order by Fname, Lname\n",
        "\n",
        "4. select * from producers where region = 'Sousse'\n",
        "\n",
        "5. select Numw, Sum(quantity) from Wine where Numw = 12\n",
        "\n",
        "6. select *, sum(quantity) from wine group by category\n",
        "\n",
        "7. select * from producers inner join wine on producers.producers.Nump = wine.producers.Nump where region = 'Sousse' and quantity > 300 order by Fname, Lname;\n",
        "\n",
        "select numw from wine where degree > 12 and Nump = 24;"
      ],
      "metadata": {
        "id": "kSMgsM6yO4_b"
      }
    },
    {
      "cell_type": "code",
      "execution_count": null,
      "metadata": {
        "id": "xdi4rTUUO3Qh"
      },
      "outputs": [],
      "source": []
    }
  ]
}